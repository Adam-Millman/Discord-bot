{
 "cells": [
  {
   "cell_type": "code",
   "execution_count": null,
   "id": "90b2c7d2",
   "metadata": {
    "scrolled": false
   },
   "outputs": [],
   "source": [
    "# Adam Millman and Omar Malik\n",
    "# The program below is for a discord bot that can do a lot of different things like welcome users and content moderation\n",
    "\n",
    "import discord\n",
    "from discord.ext import commands\n",
    "import nest_asyncio\n",
    "nest_asyncio.apply()\n",
    "import csv\n",
    "\n",
    "\n",
    "description = '''Final_bot has a lot of different commands, choose one to find out what it does.\n",
    "\n",
    "'''\n",
    "\n",
    "intents = discord.Intents.default()\n",
    "intents.members = True\n",
    "intents.message_content = True\n",
    "\n",
    "bot = commands.Bot(command_prefix='?', description=description, intents=intents)\n",
    "block_words=[\"profanity\", \"http://\", \"https://\",]\n",
    "\n",
    "@bot.event\n",
    "async def on_ready():\n",
    "    \"\"\"\n",
    "    The on ready function lets you know that the bot is online and connnect to the server\n",
    "    \"\"\"\n",
    "    print(f'Logged in as {bot.user} (ID: {bot.user.id})')\n",
    "    print('------')\n",
    "\n",
    "@bot.event\n",
    "async def on_message(msg):\n",
    "    \"\"\"\n",
    "    The on_message function is triggered every time a message is sent in any channel.\n",
    "    It checks if the bot sent message or if it contains any blocked words and deletes it. \n",
    "    \"\"\"\n",
    "    if msg.author == bot.user:\n",
    "        return  # Ignore messages sent by the bot itself\n",
    "    for text in block_words:\n",
    "        if \"Final_Bot\" not in str(msg.author.roles) and text in str(msg.content.lower()):\n",
    "            await msg.delete()\n",
    "            await msg.channel.send(f\"Hey {msg.author.mention}, stop that!\")\n",
    "            return\n",
    "\n",
    "@bot.event\n",
    "async def on_member_join(member):\n",
    "    \"\"\"\n",
    "    The on_member_join function will welcome the user to the server as well as assign them a role when they join the \n",
    "    server for the first time\n",
    "    \"\"\"\n",
    "    channel = member.guild.system_channel\n",
    "    server = member.guild.name\n",
    "    arrival_time = discord.utils.format_dt(member.joined_at)\n",
    "    message = f'Welcome, {member.mention}, thank you for joining  \"{server}\" on {arrival_time}'\n",
    "    await channel.send(message)    \n",
    "    role = discord.utils.get(member.guild.roles, name='Newbie')\n",
    "    await member.add_roles(role)\n",
    "\n",
    "bot.run('MTA4NTkyNzY0ODQzMTE5MDA3Nw.GM6Wbe.8JokosSJPTZNNqwIOWMHgihHYMDtJ2JwBUNjfw')"
   ]
  },
  {
   "cell_type": "code",
   "execution_count": null,
   "id": "62aa8e04",
   "metadata": {},
   "outputs": [],
   "source": [
    "pip install discord"
   ]
  }
 ],
 "metadata": {
  "kernelspec": {
   "display_name": "Python 3 (ipykernel)",
   "language": "python",
   "name": "python3"
  },
  "language_info": {
   "codemirror_mode": {
    "name": "ipython",
    "version": 3
   },
   "file_extension": ".py",
   "mimetype": "text/x-python",
   "name": "python",
   "nbconvert_exporter": "python",
   "pygments_lexer": "ipython3",
   "version": "3.9.13"
  }
 },
 "nbformat": 4,
 "nbformat_minor": 5
}
