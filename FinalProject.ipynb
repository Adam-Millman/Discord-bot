{
 "cells": [
  {
   "cell_type": "code",
   "execution_count": null,
   "id": "90b2c7d2",
   "metadata": {},
   "outputs": [],
   "source": [
    "# This example requires the 'members' and 'message_content' privileged intents to function.\n",
    "\n",
    "import discord\n",
    "from discord.ext import commands\n",
    "import nest_asyncio\n",
    "import youtube_dl\n",
    "nest_asyncio.apply()\n",
    "\n",
    "\n",
    "description = '''An example bot to showcase the discord.ext.commands extension\n",
    "module.\n",
    "\n",
    "There are a number of utility commands being showcased here.'''\n",
    "\n",
    "intents = discord.Intents.default()\n",
    "intents.members = True\n",
    "intents.message_content = True\n",
    "\n",
    "bot = commands.Bot(command_prefix='?', description=description, intents=intents)\n",
    "\n",
    "@bot.event\n",
    "async def on_ready():\n",
    "    \"\"\"\n",
    "    The on ready function lets you know that the bot is online and connnect to the server\n",
    "    \"\"\"\n",
    "    print(f'Logged in as {bot.user} (ID: {bot.user.id})')\n",
    "    print('------')\n",
    "\n",
    "@bot.event\n",
    "async def on_member_join(member):\n",
    "    \"\"\"\n",
    "    The assign_role function will \n",
    "    \"\"\"\n",
    "    channel = member.guild.system_channel\n",
    "    message = f'Welcome, {member.mention}, thank you for joing the server on {discord.utils.format_dt(member.joined_at)}'\n",
    "    role = discord.utils.get(member.guild.roles, name='Newbie')\n",
    "    await member.add_roles(role)\n",
    "    await channel.send(message)\n",
    "bot.run('MTA4NTkyNzY0ODQzMTE5MDA3Nw.G4bEON.9uXJK4mnus4E95-_JdFYShIJRlq_pfCx_788Cs')"
   ]
  },
  {
   "cell_type": "code",
   "execution_count": null,
   "id": "022a61be",
   "metadata": {},
   "outputs": [],
   "source": [
    "pip install youtube_dl"
   ]
  },
  {
   "cell_type": "code",
   "execution_count": null,
   "id": "859f3b9b",
   "metadata": {},
   "outputs": [],
   "source": [
    "pip install discord"
   ]
  },
  {
   "cell_type": "code",
   "execution_count": null,
   "id": "86265178",
   "metadata": {},
   "outputs": [],
   "source": [
    "import discord\n",
    "help()"
   ]
  },
  {
   "cell_type": "code",
   "execution_count": null,
   "id": "c4015d4f",
   "metadata": {},
   "outputs": [],
   "source": []
  }
 ],
 "metadata": {
  "kernelspec": {
   "display_name": "Python 3 (ipykernel)",
   "language": "python",
   "name": "python3"
  },
  "language_info": {
   "codemirror_mode": {
    "name": "ipython",
    "version": 3
   },
   "file_extension": ".py",
   "mimetype": "text/x-python",
   "name": "python",
   "nbconvert_exporter": "python",
   "pygments_lexer": "ipython3",
   "version": "3.9.13"
  }
 },
 "nbformat": 4,
 "nbformat_minor": 5
}
