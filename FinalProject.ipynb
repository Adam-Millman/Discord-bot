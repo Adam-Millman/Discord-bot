{
 "cells": [
  {
   "cell_type": "code",
   "execution_count": null,
   "id": "90b2c7d2",
   "metadata": {},
   "outputs": [
    {
     "name": "stderr",
     "output_type": "stream",
     "text": [
      "[2023-03-31 12:04:19] [INFO    ] discord.client: logging in using static token\n",
      "[2023-03-31 12:04:20] [INFO    ] discord.gateway: Shard ID None has connected to Gateway (Session ID: 16afdec2091339bfd3fe47c4b577a7d5).\n"
     ]
    },
    {
     "name": "stdout",
     "output_type": "stream",
     "text": [
      "Logged in as Final_Bot#0402 (ID: 1085927648431190077)\n",
      "------\n"
     ]
    }
   ],
   "source": [
    "# Adam Millman and Omar Malik\n",
    "# The program below is for a discord bot that can do a lot of different things like welcome users and content moderation\n",
    "\n",
    "import discord\n",
    "from discord.ext import commands\n",
    "import nest_asyncio\n",
    "import youtube_dl\n",
    "nest_asyncio.apply()\n",
    "\n",
    "\n",
    "description = '''Final_bot has a lot of different commands, choose one to find out what it does.\n",
    "\n",
    "'''\n",
    "\n",
    "intents = discord.Intents.default()\n",
    "intents.members = True\n",
    "intents.message_content = True\n",
    "\n",
    "bot = commands.Bot(command_prefix='?', description=description, intents=intents)\n",
    "\n",
    "@bot.event\n",
    "async def on_ready():\n",
    "    \"\"\"\n",
    "    The on ready function lets you know that the bot is online and connnect to the server\n",
    "    \"\"\"\n",
    "    print(f'Logged in as {bot.user} (ID: {bot.user.id})')\n",
    "    print('------')\n",
    "\n",
    "@bot.event\n",
    "async def on_member_join(member):\n",
    "    \"\"\"\n",
    "    The on_member_join function will welcome the user to the server as well as assign them a role when they join the \n",
    "    server for the first time\n",
    "    \"\"\"\n",
    "    channel = member.guild.system_channel\n",
    "    server = member.guild.name\n",
    "    arrival_time = discord.utils.format_dt(member.joined_at)\n",
    "    message = f'Welcome, {member.mention}, thank you for joining  \"{server}\" on {arrival_time}'\n",
    "    await channel.send(message)    \n",
    "    role = discord.utils.get(member.guild.roles, name='Newbie')\n",
    "    await member.add_roles(role)\n",
    "\n",
    "bot.run('MTA4NTkyNzY0ODQzMTE5MDA3Nw.G4bEON.9uXJK4mnus4E95-_JdFYShIJRlq_pfCx_788Cs')"
   ]
  },
  {
   "cell_type": "code",
   "execution_count": null,
   "id": "022a61be",
   "metadata": {},
   "outputs": [],
   "source": [
    "pip install youtube_dl"
   ]
  },
  {
   "cell_type": "code",
   "execution_count": null,
   "id": "7f73bcab",
   "metadata": {},
   "outputs": [],
   "source": [
    "pip install discord"
   ]
  },
  {
   "cell_type": "code",
   "execution_count": null,
   "id": "6be33f50",
   "metadata": {},
   "outputs": [],
   "source": [
    "import discord\n",
    "help()"
   ]
  },
  {
   "cell_type": "code",
   "execution_count": null,
   "id": "de3ae204",
   "metadata": {},
   "outputs": [],
   "source": []
  }
 ],
 "metadata": {
  "kernelspec": {
   "display_name": "Python 3 (ipykernel)",
   "language": "python",
   "name": "python3"
  },
  "language_info": {
   "codemirror_mode": {
    "name": "ipython",
    "version": 3
   },
   "file_extension": ".py",
   "mimetype": "text/x-python",
   "name": "python",
   "nbconvert_exporter": "python",
   "pygments_lexer": "ipython3",
   "version": "3.9.13"
  }
 },
 "nbformat": 4,
 "nbformat_minor": 5
}
