{
 "cells": [
  {
   "cell_type": "code",
   "execution_count": null,
   "id": "bfe6b69d",
   "metadata": {},
   "outputs": [],
   "source": [
    "pip install -U discord.py"
   ]
  },
  {
   "cell_type": "markdown",
   "id": "9e00029a",
   "metadata": {},
   "source": [
    "Updated code"
   ]
  },
  {
   "cell_type": "code",
   "execution_count": 2,
   "id": "f6ac3a64",
   "metadata": {},
   "outputs": [
    {
     "name": "stderr",
     "output_type": "stream",
     "text": [
      "[2023-04-01 21:46:45] [INFO    ] discord.client: logging in using static token\n",
      "[2023-04-01 21:46:45] [INFO    ] discord.client: logging in using static token\n",
      "[2023-04-01 21:46:46] [INFO    ] discord.gateway: Shard ID None has connected to Gateway (Session ID: 46104e592adee192cfb30acc22a99932).\n",
      "[2023-04-01 21:46:46] [INFO    ] discord.gateway: Shard ID None has connected to Gateway (Session ID: 46104e592adee192cfb30acc22a99932).\n"
     ]
    },
    {
     "name": "stdout",
     "output_type": "stream",
     "text": [
      "Logged in as Final_Bot#0402 (ID: 1085927648431190077)\n",
      "------\n"
     ]
    }
   ],
   "source": [
    "import discord\n",
    "from discord.ext import commands\n",
    "import nest_asyncio\n",
    "nest_asyncio.apply()\n",
    "\n",
    "\n",
    "description = '''Final_bot has a lot of different commands, choose one to find out what it does.\n",
    "\n",
    "'''\n",
    "\n",
    "intents = discord.Intents.default()\n",
    "intents.members = True\n",
    "intents.message_content = True\n",
    "\n",
    "bot = commands.Bot(command_prefix='?', description=description, intents=intents)\n",
    "block_words=[\"shit\", \"http://\", \"https://\",]\n",
    "\n",
    "@bot.event\n",
    "async def on_ready():\n",
    "    \"\"\"\n",
    "    The on ready function lets you know that the bot is online and connnect to the server\n",
    "    \"\"\"\n",
    "    print(f'Logged in as {bot.user} (ID: {bot.user.id})')\n",
    "    print('------')\n",
    "\n",
    "@bot.event\n",
    "async def on_message(msg):\n",
    "    \"\"\"\n",
    "    The on_message function is triggered every time a message is sent in any channel.\n",
    "    It checks if the bot sent message or if it contains any blocked words and deletes it. \n",
    "    \"\"\"\n",
    "    if msg.author == bot.user:\n",
    "        return  # Ignore messages sent by the bot itself\n",
    "    for text in block_words:\n",
    "        if \"Final_Bot\" not in str(msg.author.roles) and text in str(msg.content.lower()):\n",
    "            await msg.delete()\n",
    "            await msg.channel.send(f\"Hey {msg.author.mention}, stop that!\")\n",
    "            return\n",
    "\n",
    "@bot.event\n",
    "async def on_member_join(member):\n",
    "    \"\"\"\n",
    "    The on_member_join function will welcome the user to the server as well as assign them a role when they join the \n",
    "    server for the first time\n",
    "    \"\"\"\n",
    "    channel = member.guild.system_channel\n",
    "    server = member.guild.name\n",
    "    arrival_time = discord.utils.format_dt(member.joined_at)\n",
    "    message = f'Welcome, {member.mention}, thank you for joining  \"{server}\" on {arrival_time}'\n",
    "    await channel.send(message)    \n",
    "    role = discord.utils.get(member.guild.roles, name='Newbie')\n",
    "    await member.add_roles(role)\n",
    "    \n",
    "bot.run('MTA4NTkyNzY0ODQzMTE5MDA3Nw.Gaekwz.H7O76ddS0zUMfAaem1bru7sdMyaoK_ikZ_5C-o')"
   ]
  },
  {
   "cell_type": "code",
   "execution_count": null,
   "id": "78c67782",
   "metadata": {},
   "outputs": [],
   "source": [
    "pip install youtube_dl"
   ]
  },
  {
   "cell_type": "code",
   "execution_count": null,
   "id": "43c5f54a",
   "metadata": {},
   "outputs": [],
   "source": [
    "pip install discord"
   ]
  },
  {
   "cell_type": "code",
   "execution_count": null,
   "id": "27ee1f8d",
   "metadata": {},
   "outputs": [],
   "source": [
    "import discord\n",
    "help()"
   ]
  },
  {
   "cell_type": "code",
   "execution_count": null,
   "id": "629005f4",
   "metadata": {},
   "outputs": [],
   "source": []
  }
 ],
 "metadata": {
  "kernelspec": {
   "display_name": "Python 3 (ipykernel)",
   "language": "python",
   "name": "python3"
  },
  "language_info": {
   "codemirror_mode": {
    "name": "ipython",
    "version": 3
   },
   "file_extension": ".py",
   "mimetype": "text/x-python",
   "name": "python",
   "nbconvert_exporter": "python",
   "pygments_lexer": "ipython3",
   "version": "3.9.13"
  }
 },
 "nbformat": 4,
 "nbformat_minor": 5
}
